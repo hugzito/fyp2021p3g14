{
 "cells": [
  {
   "cell_type": "markdown",
   "metadata": {
    "cell_id": "00000-f5d46bab-4668-4dac-baab-ea299d56176c",
    "deepnote_cell_type": "text-cell-h1",
    "tags": []
   },
   "source": [
    "# Project 3 - Group 14"
   ]
  },
  {
   "cell_type": "markdown",
   "metadata": {
    "cell_id": "00001-c0a1c444-c32c-4f8c-a2e5-e5a0a8b1d7ac",
    "deepnote_cell_type": "text-cell-h3",
    "tags": []
   },
   "source": [
    "### Libraries"
   ]
  },
  {
   "cell_type": "code",
   "execution_count": null,
   "metadata": {
    "cell_id": "00000-aab0f2f5-dfd6-49d5-ba3f-fb0599554cb7",
    "deepnote_cell_type": "code",
    "deepnote_to_be_reexecuted": false,
    "execution_millis": 2277,
    "execution_start": 1619163361093,
    "source_hash": "f57baa21",
    "tags": []
   },
   "outputs": [],
   "source": [
    "import matplotlib.pyplot as plt\n",
    "import numpy as np\n",
    "import pandas as pd\n",
    "\n",
    "from math import pi\n",
    "from skimage import morphology\n",
    "from scipy.spatial.distance import cdist\n",
    "from scipy.stats.stats import mode\n",
    "\n",
    "from scipy import ndimage\n",
    "\n",
    "import seaborn as sns\n",
    "\n",
    "from sklearn.model_selection import train_test_split\n",
    "from sklearn.feature_selection import mutual_info_classif, SelectKBest\n",
    "from sklearn.neighbors import KNeighborsClassifier\n",
    "from sklearn.tree import DecisionTreeClassifier\n",
    "from sklearn.metrics import accuracy_score, roc_auc_score\n",
    "from sklearn import decomposition, datasets\n",
    "from sklearn.preprocessing import StandardScaler\n",
    "from sklearn.linear_model import LogisticRegression\n",
    "from sklearn.ensemble import RandomForestClassifier\n",
    "from sklearn.neighbors import KNeighborsClassifier  \n",
    "from sklearn import svm\n",
    "from sklearn.model_selection import GridSearchCV\n",
    "from sklearn.model_selection import KFold\n",
    "from sklearn.model_selection import cross_val_predict\n",
    "from sklearn.model_selection import cross_val_score, cross_validate\n",
    "from sklearn.metrics import accuracy_score, f1_score, precision_score, recall_score, classification_report, confusion_matrix\n"
   ]
  },
  {
   "cell_type": "markdown",
   "metadata": {
    "cell_id": "00005-30b2ac9c-9f53-403d-b55e-d0b75c54f2dd",
    "deepnote_cell_type": "text-cell-h3",
    "tags": []
   },
   "source": [
    "### Setup"
   ]
  },
  {
   "cell_type": "code",
   "execution_count": null,
   "metadata": {
    "cell_id": "00006-fc767657-d103-438c-a8c4-d24ff6c0e763",
    "deepnote_cell_type": "code",
    "deepnote_to_be_reexecuted": false,
    "execution_millis": 13,
    "execution_start": 1619163363386,
    "source_hash": "3c922bfc",
    "tags": []
   },
   "outputs": [],
   "source": [
    "#Loading in the features csv files which can be used to calculate the compactness of the lesions\n",
    "features = pd.read_csv (r'../features/features.csv')\n",
    "truth = pd.read_csv(r'../data/ISIC-2017_Training_Part3_GroundTruth.csv')"
   ]
  },
  {
   "cell_type": "code",
   "execution_count": null,
   "metadata": {
    "cell_id": "00007-6308761d-a35c-44c9-b3b9-a26531752208",
    "deepnote_cell_type": "code",
    "deepnote_to_be_reexecuted": false,
    "execution_millis": 49,
    "execution_start": 1619163363406,
    "source_hash": "3e86ba06",
    "tags": []
   },
   "outputs": [],
   "source": [
    "truth[\"id\"] = truth[\"image_id\"]\n",
    "tr_melanoma = truth[truth[\"melanoma\"]>0]\n",
    "nr_rows_melanoma = len(tr_melanoma)\n",
    "tr_non_melanoma = truth[truth[\"melanoma\"]<1][:nr_rows_melanoma]\n",
    "melanoma_d = tr_melanoma.append(tr_non_melanoma)\n",
    "melanoma_d = melanoma_d.drop([\"image_id\",\"seborrheic_keratosis\"],axis=1)\n",
    "melanoma_d"
   ]
  },
  {
   "cell_type": "code",
   "execution_count": null,
   "metadata": {
    "cell_id": "00008-97a46241-adb9-4d4d-b452-7585a2d5fffa",
    "deepnote_cell_type": "code",
    "deepnote_to_be_reexecuted": false,
    "execution_millis": 37,
    "execution_start": 1619163363452,
    "source_hash": "f389aff6",
    "tags": []
   },
   "outputs": [],
   "source": [
    "#Age\n",
    "features2 = pd.read_csv (r'../features/more_features.csv')\n",
    "f2 = features2.drop(\"sex\",axis=1)\n",
    "f2 = f2.rename(columns={\"image_id\":\"id\"})\n",
    "f2"
   ]
  },
  {
   "cell_type": "markdown",
   "metadata": {
    "cell_id": "00006-1a30202b-a24e-493a-a25b-d8a839bcaa96",
    "deepnote_cell_type": "text-cell-h3",
    "tags": []
   },
   "source": [
    "### Feature: Compactness"
   ]
  },
  {
   "cell_type": "code",
   "execution_count": null,
   "metadata": {
    "cell_id": "00009-78905b95-a072-4cfc-be7a-d83b0ecdecf9",
    "deepnote_cell_type": "code",
    "deepnote_to_be_reexecuted": false,
    "execution_millis": 21123,
    "execution_start": 1619163502206,
    "source_hash": "ae6bf4a1",
    "tags": []
   },
   "outputs": [],
   "source": [
    "def measure_compactness(mask):\n",
    "    # Measure area: the sum of all white pixels in the mask image\n",
    "    area = np.sum(mask)\n",
    "\n",
    "    # Measure perimeter: first find which pixels belong to the perimeter.\n",
    "    struct_el = morphology.disk(2)\n",
    "    mask_eroded = morphology.binary_erosion(mask, struct_el)\n",
    "    image_perimeter = mask - mask_eroded\n",
    "\n",
    "    # Now we have the perimeter image, the sum of all white pixels in it\n",
    "    perimeter = np.sum(image_perimeter)\n",
    "    compactness = (perimeter**2)/(4*pi*area)\n",
    "    return compactness\n",
    "\n",
    "list_x=[]\n",
    "for i in melanoma_d[\"id\"]:\n",
    "    #print(i)\n",
    "    mask = plt.imread(\"../data/ISIC-2017_Training_Data_mask\" + \"/\" + i + \"_segmentation.png\")\n",
    "    dict1 = {}\n",
    "    # get input row in dictionary format\n",
    "    # key = col_name\n",
    "    dict1.update({\"id\":i,\"compactness\":measure_compactness(mask)}) \n",
    "\n",
    "    list_x.append(dict1)\n",
    "\n",
    "df_comp = pd.DataFrame(list_x)   "
   ]
  },
  {
   "cell_type": "code",
   "execution_count": null,
   "metadata": {
    "cell_id": "00011-3e915fab-6da0-40e4-9653-7b28cd8d5867",
    "deepnote_cell_type": "code",
    "deepnote_to_be_reexecuted": true,
    "execution_millis": 36,
    "source_hash": "9e455b2a",
    "tags": []
   },
   "outputs": [],
   "source": [
    "df_comp"
   ]
  },
  {
   "cell_type": "markdown",
   "metadata": {
    "cell_id": "00007-37f6e106-31e3-497e-acbe-38b6b871d5e6",
    "deepnote_cell_type": "text-cell-h3",
    "tags": []
   },
   "source": [
    "### Feature: Symmetry (If we want to use it)"
   ]
  },
  {
   "cell_type": "code",
   "execution_count": null,
   "metadata": {
    "cell_id": "00011-af9a3208-5ea1-4c72-aa7e-d2a619322f19",
    "deepnote_cell_type": "code",
    "deepnote_to_be_reexecuted": true,
    "execution_millis": 4,
    "source_hash": "99cb015e",
    "tags": []
   },
   "outputs": [],
   "source": [
    "#Determines how symmetrical the lesion is by seeing how much it overlaps with itself when folded across its center\n",
    "\n",
    "def folded_overlap(mask_ID):\n",
    "    #Finds center-point\n",
    "    borders = np.where(mask_ID == 1)\n",
    "    up, down, left, right = max(borders[0]), min(borders[0]), min(borders[1]), max(borders[1])\n",
    "    center = ((up+down) //2, (left + right) //2)\n",
    "\n",
    "    #compares overlap between the 2 horizontal halves of the lesion\n",
    "    half1 = mask_ID[down:up, left:center[1]]\n",
    "    half1 = np.flip(half1,1)\n",
    "    if (right-left)%2 == 0: #can't compare 2 images of different sizes\n",
    "        half2 = mask_ID[down:up, center[1]:right]\n",
    "    else:\n",
    "        half2 = mask_ID[down:up, center[1]+1:right]\n",
    "    overlap_h = np.logical_and(half1==1, half2==1)\n",
    "\n",
    "    half_h_average_sum = (np.sum(half1) + np.sum(half2)) / 2\n",
    "    overlap_h_sum = np.sum(overlap_h)\n",
    "    overlap_h_percentage = overlap_h_sum / half_h_average_sum\n",
    "\n",
    "    #the 2 vertical halves\n",
    "    half3 = mask_ID[down:center[0], left:right]\n",
    "    half3 = np.flip(half3,0)\n",
    "    if (up-down)%2 == 0: #can't compare 2 images of different sizes\n",
    "        half4 = mask_ID[center[0]:up, left:right]\n",
    "    else:\n",
    "        half4 = mask_ID[center[0]+1:up, left:right]\n",
    "    overlap_v = np.logical_and(half3==1, half4==1)\n",
    "    half_v_average_sum = (np.sum(half3) + np.sum(half4)) / 2\n",
    "    overlap_v_sum = np.sum(overlap_v)\n",
    "    overlap_v_percentage = overlap_v_sum / half_v_average_sum\n",
    "\n",
    "    #horizontal fold, vertical fold\n",
    "    return overlap_h_percentage, overlap_v_percentage\n",
    "\n",
    "# mask_ID = plt.imread(\"../data/example_segmentation/ISIC_0001769_segmentation.png\")\n",
    "# print(folded_overlap(mask_ID)))"
   ]
  },
  {
   "cell_type": "code",
   "execution_count": null,
   "metadata": {
    "cell_id": "00012-6d5b6166-b562-4e43-9251-29a2aa1d5410",
    "deepnote_cell_type": "code",
    "deepnote_to_be_reexecuted": true,
    "execution_millis": 3268108,
    "source_hash": "7a2bbc4c",
    "tags": []
   },
   "outputs": [],
   "source": [
    "#Runs the folded_overlap function for several images and their rotations.\n",
    "\n",
    "degrees = [30]*2 #folds across 0 and 90 degrees, then 30 and 120, then 60 and 150\n",
    "list_y = list()\n",
    "for i in melanoma_d[\"id\"]:\n",
    "    #print(i)\n",
    "    mask_ID = plt.imread(\"../data/ISIC-2017_Training_Data_mask\" + \"/\" + i + \"_segmentation.png\")\n",
    "    dict2 = dict()\n",
    "    overlap_list = list()\n",
    "    overlap_list.extend(folded_overlap(mask_ID)) #first foldings before rotations begin\n",
    "    for degree in degrees:\n",
    "        overlap_list.extend(folded_overlap(mask_ID))\n",
    "        mask_ID = ndimage.rotate(mask_ID, degree)\n",
    "    dict2.update({\"id\":i, \"symmetry\":max(overlap_list)}) #max(folded_overlap(mask_ID))})\n",
    "    list_y.append(dict2)\n",
    "df_sym = pd.DataFrame(list_y)\n"
   ]
  },
  {
   "cell_type": "code",
   "execution_count": null,
   "metadata": {
    "cell_id": "00015-712fadac-e98c-4f62-8d18-706cf51491ba",
    "deepnote_cell_type": "code",
    "deepnote_to_be_reexecuted": true,
    "execution_millis": 23,
    "source_hash": "4dddf11d",
    "tags": []
   },
   "outputs": [],
   "source": [
    "df_sym"
   ]
  },
  {
   "cell_type": "markdown",
   "metadata": {
    "cell_id": "00008-7a81294a-f339-4471-9e80-df11a58bb9b2",
    "deepnote_cell_type": "text-cell-h3",
    "tags": []
   },
   "source": [
    "### Feature: Colors"
   ]
  },
  {
   "cell_type": "code",
   "execution_count": null,
   "metadata": {
    "cell_id": "00019-11a3765b-3b21-46b0-903c-d6b6535207a2",
    "deepnote_cell_type": "code",
    "deepnote_to_be_reexecuted": true,
    "execution_millis": 9073373,
    "source_hash": "1c428bb8",
    "tags": []
   },
   "outputs": [],
   "source": [
    "struct_el = morphology.disk(20)\n",
    "rows_list = []\n",
    "for i in melanoma_d[\"id\"]:\n",
    "\n",
    "    img =plt.imread(\"../data/ISIC-2017_Training_Data\" + \"/\" + i + \".jpg\")\n",
    "    mask = plt.imread(\"../data/ISIC-2017_Training_Data_mask\" + \"/\" + i + \"_segmentation.png\")\n",
    "    mask_eroded = morphology.binary_erosion(mask, struct_el)\n",
    "    image_perimeter = mask - mask_eroded\n",
    "    dict1 = {}\n",
    "    dict1.update({\"id\":i,\"lesion_color\":np.var(img[image_perimeter==1])}) \n",
    "    \n",
    "    rows_list.append(dict1)\n",
    "\n",
    "df_color = pd.DataFrame(rows_list)"
   ]
  },
  {
   "cell_type": "code",
   "execution_count": null,
   "metadata": {
    "cell_id": "00019-49ed6ce5-a857-4522-bed4-13e2bce61a62",
    "deepnote_cell_type": "code",
    "deepnote_to_be_reexecuted": true,
    "execution_millis": 34,
    "source_hash": "6ef5b595",
    "tags": []
   },
   "outputs": [],
   "source": [
    "df_color"
   ]
  },
  {
   "cell_type": "markdown",
   "metadata": {
    "cell_id": "00009-4df51c2a-ca41-4056-bc3a-c26bd3449d18",
    "deepnote_cell_type": "text-cell-h3",
    "tags": []
   },
   "source": [
    "### KNN"
   ]
  },
  {
   "cell_type": "markdown",
   "metadata": {
    "cell_id": "00018-2bd2f4d8-eb39-4558-814f-7bec20c89868",
    "deepnote_cell_type": "text-cell-p",
    "tags": []
   },
   "source": [
    "Preparing the dataset"
   ]
  },
  {
   "cell_type": "code",
   "execution_count": null,
   "metadata": {
    "cell_id": "00018-46f0697c-5c91-4fb2-a223-3a7ccdc5c75e",
    "deepnote_cell_type": "code",
    "deepnote_to_be_reexecuted": true,
    "execution_millis": 43,
    "source_hash": "2b6b5c0e",
    "tags": []
   },
   "outputs": [],
   "source": [
    "#Merging all the datasets\n",
    "\n",
    "new_df2 = pd.merge(df_comp,melanoma_d,on = \"id\", how='outer')\n",
    "new_df3 = pd.merge(new_df2,df_color,on = \"id\",how=\"outer\")\n",
    "new_df4 = pd.merge(new_df3,f2,on = \"id\")\n",
    "new_df5 = pd.merge(new_df4,df_sym,on=\"id\")\n",
    "\n",
    "#Replacing missing values with median or mean \n",
    "\n",
    "mask4 = new_df5[new_df5[\"age_approximate\"]!=\"unknown\"]\n",
    "median = mask4[\"age_approximate\"].median()\n",
    "new_df5['age'] = new_df5['age_approximate'].replace('unknown', median)\n",
    "\n",
    "# #Converting column to float since it was object\n",
    "\n",
    "new_df5[\"age\"] = new_df5[\"age\"].astype(np.float64)\n",
    "\n",
    "# #Dropping some of the columns\n",
    "new_df5 = new_df5.drop(['id',\"age_approximate\"],axis=1)"
   ]
  },
  {
   "cell_type": "code",
   "execution_count": null,
   "metadata": {
    "cell_id": "00025-65e67a69-1af2-457e-b45e-687e89f74007",
    "deepnote_cell_type": "code",
    "deepnote_to_be_reexecuted": true,
    "execution_millis": 18,
    "source_hash": "a4e65f3",
    "tags": []
   },
   "outputs": [],
   "source": [
    "new_df5"
   ]
  },
  {
   "cell_type": "code",
   "execution_count": null,
   "metadata": {
    "cell_id": "00026-7672d2e9-22b2-4afd-ba82-7556e4d761a7",
    "deepnote_cell_type": "code",
    "deepnote_to_be_reexecuted": false,
    "execution_millis": 333,
    "execution_start": 1619165887978,
    "source_hash": "85b5fd37",
    "tags": []
   },
   "outputs": [],
   "source": [
    "#Task 1 plot\n",
    "\n",
    "figure, axes = plt.subplots(nrows=2, figsize=(6,6))\n",
    "\n",
    "axes[0].hist(new_df5[\"symmetry\"][new_df5[\"melanoma\"]==0], range=[0.5,1])\n",
    "axes[1].hist(new_df5[\"symmetry\"][new_df5[\"melanoma\"]==1], range=[0.5,1])\n",
    "\n",
    "axes[0].set_title(\"Non-Melanoma Lesion Symmetries\")\n",
    "axes[1].set_title(\"Melanoma Lesion Symmetries\")\n",
    "\n",
    "figure.tight_layout(pad=1.0)\n",
    "\n",
    "plt.show()"
   ]
  },
  {
   "cell_type": "code",
   "execution_count": null,
   "metadata": {
    "cell_id": "00020-f6be7163-d038-4c1f-b73b-a46a970c0184",
    "deepnote_cell_type": "code",
    "deepnote_to_be_reexecuted": true,
    "execution_millis": 386,
    "source_hash": "74a84d60",
    "tags": []
   },
   "outputs": [],
   "source": [
    "#Creating a correlating matrix to see how well each feature correlates\n",
    "#with being a melanoma or not\n",
    "corrMatrix = new_df5.corr()\n",
    "sns.heatmap(corrMatrix, annot=True)\n",
    "plt.show()"
   ]
  },
  {
   "cell_type": "code",
   "execution_count": null,
   "metadata": {
    "cell_id": "00021-a96a0fa6-ed28-44d0-af6e-81ad4e2236ed",
    "deepnote_cell_type": "code",
    "deepnote_to_be_reexecuted": true,
    "execution_millis": 8,
    "source_hash": "abd6f791",
    "tags": []
   },
   "outputs": [],
   "source": [
    "#Creating a zip file with csv inside of the dataframe\n",
    "new_df5.to_csv(\"dataframe2.csv\", index=False)"
   ]
  },
  {
   "cell_type": "code",
   "execution_count": null,
   "metadata": {
    "cell_id": "00025-aaa05bd1-d531-4361-b148-5e46a758528e",
    "deepnote_cell_type": "code",
    "deepnote_to_be_reexecuted": false,
    "execution_millis": 20,
    "execution_start": 1619163555802,
    "source_hash": "35df6314",
    "tags": []
   },
   "outputs": [],
   "source": [
    "new_df5 =  pd.read_csv(\"dataframe2.csv\")\n",
    "new_df5"
   ]
  },
  {
   "cell_type": "code",
   "execution_count": null,
   "metadata": {
    "cell_id": "00030-70ff6cd1-09dc-448c-8028-5d7c45c6a17c",
    "deepnote_cell_type": "code",
    "deepnote_to_be_reexecuted": false,
    "execution_millis": 349,
    "execution_start": 1619165471693,
    "source_hash": "28b4c51",
    "tags": []
   },
   "outputs": [],
   "source": [
    "corrMatrix = new_df5.corr()\n",
    "sns.heatmap(corrMatrix, annot=True)\n",
    "plt.show()"
   ]
  },
  {
   "cell_type": "code",
   "execution_count": null,
   "metadata": {
    "cell_id": "00021-74705c3f-d441-475a-98d3-ee94f3ed263a",
    "deepnote_cell_type": "code",
    "deepnote_to_be_reexecuted": false,
    "execution_millis": 70,
    "execution_start": 1619163563682,
    "source_hash": "77a90d3e",
    "tags": []
   },
   "outputs": [],
   "source": [
    "from sklearn import preprocessing\n",
    "scaled_features = new_df5.copy()\n",
    "col_names = [\"compactness\",\"lesion_color\",\"age\",\"symmetry\"]\n",
    "features = scaled_features[col_names]\n",
    "scaler = StandardScaler().fit(features.values)\n",
    "s_features = scaler.transform(features.values)\n",
    "scaled_features[col_names] =s_features\n",
    "scaled_features"
   ]
  },
  {
   "cell_type": "code",
   "execution_count": null,
   "metadata": {
    "cell_id": "00022-8856d1c7-1872-4ef3-a2e0-f7a1cd6ee345",
    "deepnote_cell_type": "code",
    "deepnote_to_be_reexecuted": false,
    "execution_millis": 32,
    "execution_start": 1619163568332,
    "source_hash": "355d5010",
    "tags": []
   },
   "outputs": [],
   "source": [
    "# Split the data before feature selection\n",
    "from sklearn.model_selection import train_test_split\n",
    "\n",
    "# Add the noisy data to the informative features\n",
    "X = scaled_features[[\"compactness\",\"lesion_color\",\"age\",\"symmetry\"]]\n",
    "y = scaled_features['melanoma']\n",
    "print(X.shape)\n",
    "print(y.shape)\n",
    "# # Split dataset to select feature and evaluate the classifier\n",
    "# X_dev, X_test, y_dev, y_test = train_test_split(\n",
    "#         X, y, stratify=y, random_state=0)\n",
    "\n",
    "# X_train, X_val, y_train, y_val = train_test_split(\n",
    "#         X_dev, y_dev, stratify=y_dev)"
   ]
  },
  {
   "cell_type": "code",
   "execution_count": null,
   "metadata": {
    "cell_id": "00032-1d7af1de-92ae-445a-890b-c78c164cbc2f",
    "deepnote_cell_type": "code",
    "deepnote_to_be_reexecuted": false,
    "execution_millis": 421340,
    "execution_start": 1619164666526,
    "source_hash": "e2ce5880",
    "tags": []
   },
   "outputs": [],
   "source": [
    "#Running GridSearch algorithm to find the best hyperparameters for the classifiers \n",
    "clf_svc = svm.SVC()\n",
    "clf_rf = RandomForestClassifier()\n",
    "lr = LogisticRegression()\n",
    "knn = KNeighborsClassifier()\n",
    "best_models=[]\n",
    "models = [\n",
    "          knn,\n",
    "          clf_rf, \n",
    "          lr,\n",
    "          clf_svc,\n",
    "          ]\n",
    "\n",
    "for model in models:\n",
    "# finding the best hyperparameters for each model using gridsearch\n",
    "    if(model==knn):\n",
    "        grid_search = GridSearchCV(model, param_grid={  'weights':('uniform', 'distance'),\n",
    "            'n_neighbors':list(range(1, 31)),'algorithm':('auto', 'ball_tree', 'kd_tree', 'brute')}, cv=10, scoring='accuracy', return_train_score=True,n_jobs=-1)\n",
    "        grid_search.fit(X,y)\n",
    "        best_params = grid_search.best_params_\n",
    "        best_knn = KNeighborsClassifier( weights=best_params['weights'],\n",
    "           n_neighbors=best_params['n_neighbors'],algorithm=best_params['algorithm'])\n",
    "        print(best_params)\n",
    "        best_models.append(best_knn)\n",
    "    if(model==clf_rf):\n",
    "        grid_search = GridSearchCV(model, param_grid={ 'bootstrap': [True, False],\n",
    "            'criterion': ['gini', 'entropy'], 'n_estimators': [3,10,30,100,300,1000]}, \n",
    "            cv=10, scoring='accuracy', return_train_score=True,n_jobs=-1)\n",
    "        grid_search.fit(X,y)\n",
    "        best_params= grid_search.best_params_\n",
    "        best_rf = RandomForestClassifier(bootstrap = best_params['bootstrap'],criterion=best_params['criterion'],\n",
    "                                         n_estimators= best_params['n_estimators'])\n",
    "        print(best_params)\n",
    "        best_models.append(best_rf)\n",
    "    if(model==lr):\n",
    "        grid_search = GridSearchCV(model, param_grid={ 'penalty':[\"l1\",\"l2\"], 'C': [0.001, 0.01, 0.1, 1, 10]}\n",
    "            , cv=10, scoring='accuracy', return_train_score=True,n_jobs=-1)\n",
    "        grid_search.fit(X,y)\n",
    "        best_params= grid_search.best_params_\n",
    "        best_lr = LogisticRegression(penalty= best_params['penalty'], C=best_params['C']) \n",
    "        print(best_params)\n",
    "        best_models.append(best_lr)\n",
    "    if(model==clf_svc):\n",
    "        grid_search = GridSearchCV(model, param_grid={  'decision_function_shape':('ovo','ovr'),\n",
    "            'shrinking':(True,False),'kernel':('linear', 'rbf','poly'), 'C': [0.001, 0.01, 0.1, 1, 10], \n",
    "            'gamma' : [0.001, 0.01, 0.1, 1]}, cv=10, scoring='accuracy', return_train_score=True,n_jobs=-1)\n",
    "        grid_search.fit(X,y)\n",
    "        best_params = grid_search.best_params_\n",
    "        best_svc = svm.SVC(decision_function_shape=best_params['decision_function_shape'],\n",
    "            shrinking= best_params['shrinking'],kernel=best_params['kernel'], C= best_params['C'], \n",
    "            gamma = best_params['gamma'])\n",
    "        print(best_params)\n",
    "        best_models.append(best_svc)\n",
    "    "
   ]
  },
  {
   "cell_type": "code",
   "execution_count": null,
   "metadata": {
    "cell_id": "00034-d7ec6816-b9d4-475f-8897-a3deb2923102",
    "deepnote_cell_type": "code",
    "deepnote_to_be_reexecuted": true,
    "execution_millis": 18,
    "source_hash": "40fefd93",
    "tags": []
   },
   "outputs": [],
   "source": [
    "#The best hyperparameters for each classifier\n",
    "best_models"
   ]
  },
  {
   "cell_type": "code",
   "execution_count": null,
   "metadata": {
    "cell_id": "00035-952410b2-44b3-42fe-8a2e-948785ecc4b8",
    "deepnote_cell_type": "code",
    "deepnote_to_be_reexecuted": false,
    "execution_millis": 6634,
    "execution_start": 1619165408050,
    "source_hash": "3b4db0da",
    "tags": []
   },
   "outputs": [],
   "source": [
    "kfold = KFold(n_splits=10)\n",
    "models_table = pd.DataFrame(columns=['Classifier_name', 'train_score','vald_score'])\n",
    "metrics_table = pd.DataFrame(columns=['Classifier_name', 'test_score',\"auc_score\"])\n",
    "X_train, X_test, y_train, y_test = train_test_split(X, y, stratify=y, random_state=0)\n",
    "\n",
    "for i, model in enumerate(best_models):\n",
    "# training the models \n",
    "    print(model)\n",
    "    cv_result = cross_validate(model, X_train, y_train, cv=kfold, scoring='accuracy',return_train_score=True)\n",
    "    modelx = model.fit(X_train,y_train)\n",
    "    models_table.loc[i, 'Classifier_name'] = model.__class__.__name__\n",
    "    models_table.loc[i, 'train_score'] = cv_result['train_score'].mean()\n",
    "    models_table.loc[i, 'vald_score'] = cv_result['test_score'].mean()\n",
    "    metrics_table.loc[i, 'Classifier_name']= model.__class__.__name__\n",
    "    y_pred=[]\n",
    "    y_pred_val = modelx.predict(X_test)\n",
    "\n",
    "    print(model.__class__.__name__)\n",
    "    print(confusion_matrix( y_test,y_pred_val))\n",
    "    print()\n",
    "    metrics_table.loc[i,\"Classifier_name\"] = model.__class__.__name__\n",
    "    metrics_table.loc[i,\"test_precision\"] = precision_score(y_test,y_pred_val)\n",
    "    metrics_table.loc[i,\"test_score\"] = accuracy_score(y_test,y_pred_val)\n",
    "    metrics_table.loc[i,\"test_recall\"] = recall_score(y_test,y_pred_val)\n",
    "    metrics_table.loc[i,\"auc_score\"] = roc_auc_score(y_test,y_pred_val)\n",
    "models_table"
   ]
  },
  {
   "cell_type": "code",
   "execution_count": null,
   "metadata": {
    "cell_id": "00036-9427eb5d-465d-41fb-9814-3de7ecfd6ccb",
    "deepnote_cell_type": "code",
    "deepnote_to_be_reexecuted": false,
    "execution_millis": 12,
    "execution_start": 1619165420089,
    "source_hash": "262bce8e",
    "tags": []
   },
   "outputs": [],
   "source": [
    "metrics_table"
   ]
  }
 ],
 "metadata": {
  "deepnote": {
   "is_reactive": false
  },
  "deepnote_execution_queue": [],
  "deepnote_notebook_id": "f11992af-bd83-4880-beaa-8d39b4bd0e2c",
  "kernelspec": {
   "display_name": "Python 3",
   "language": "python",
   "name": "python3"
  },
  "language_info": {
   "codemirror_mode": {
    "name": "ipython",
    "version": 3
   },
   "file_extension": ".py",
   "mimetype": "text/x-python",
   "name": "python",
   "nbconvert_exporter": "python",
   "pygments_lexer": "ipython3",
   "version": "3.8.5"
  },
  "varInspector": {
   "cols": {
    "lenName": 16,
    "lenType": 16,
    "lenVar": 40
   },
   "kernels_config": {
    "python": {
     "delete_cmd_postfix": "",
     "delete_cmd_prefix": "del ",
     "library": "var_list.py",
     "varRefreshCmd": "print(var_dic_list())"
    },
    "r": {
     "delete_cmd_postfix": ") ",
     "delete_cmd_prefix": "rm(",
     "library": "var_list.r",
     "varRefreshCmd": "cat(var_dic_list()) "
    }
   },
   "types_to_exclude": [
    "module",
    "function",
    "builtin_function_or_method",
    "instance",
    "_Feature"
   ],
   "window_display": false
  }
 },
 "nbformat": 4,
 "nbformat_minor": 2
}
